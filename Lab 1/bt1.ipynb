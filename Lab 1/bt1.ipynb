{
 "cells": [
  {
   "cell_type": "code",
   "execution_count": 2,
   "id": "a09abd42",
   "metadata": {},
   "outputs": [
    {
     "name": "stdout",
     "output_type": "stream",
     "text": [
      "[1.0, 3.0, 5.0, 7.0]\n",
      "[1.0, 3.0, 5.0, 7.0, 1.0, 3.0, 5.0, 7.0]\n",
      "[1.0, 3.0, 5.0, 7.0, 1.0, 3.0, 5.0, 7.0]\n"
     ]
    }
   ],
   "source": [
    "danhsach1 = [1., 3.]\n",
    "danhsach2 = [5., 7.]\n",
    "danhsach = danhsach1 + danhsach2\n",
    "print(danhsach)  \n",
    "\n",
    "danhsach_gapdoi = 2 * danhsach\n",
    "print(danhsach_gapdoi)  \n",
    "\n",
    "print(danhsach * 2)  \n"
   ]
  },
  {
   "cell_type": "code",
   "execution_count": 3,
   "id": "928b1a6d",
   "metadata": {},
   "outputs": [
    {
     "name": "stdout",
     "output_type": "stream",
     "text": [
      "<zip object at 0x0000018885791A00>\n",
      "{(2, 'ToanCC', 10), (3, 'DSTT', 9), (4, 'ToanRR', 8), (1, 'LaptrinhCB', 7)}\n",
      "('ToanCC', 'DSTT', 'ToanRR', 'LaptrinhCB')\n"
     ]
    }
   ],
   "source": [
    "mon_hoc = [\"ToanCC\", \"DSTT\", \"ToanRR\", \"LaptrinhCB\"]\n",
    "thu_tu = [2, 3, 4, 1]\n",
    "diem_so = [10, 9, 8, 7]\n",
    "anh_xa = zip(thu_tu, mon_hoc, diem_so)\n",
    "print(anh_xa)  # <zip object at ...> (memory address will vary)\n",
    "\n",
    "tap_hop = set(anh_xa)\n",
    "print(tap_hop)  # {(2, 'ToanCC', 10), (3, 'DSTT', 9), (4, 'ToanRR', 8), (1, 'LaptrinhCB', 7)}\n",
    "\n",
    "# Note: anh_xa is consumed after creating tap_hop, so we need to recreate it\n",
    "anh_xa = zip(thu_tu, mon_hoc, diem_so)\n",
    "lay_TT, lay_monhoc, lay_diem = zip(*anh_xa)\n",
    "print(lay_monhoc)  # ('ToanCC', 'DSTT', 'ToanRR', 'LaptrinhCB')"
   ]
  },
  {
   "cell_type": "code",
   "execution_count": 5,
   "id": "b2d0a06d",
   "metadata": {},
   "outputs": [
    {
     "name": "stdout",
     "output_type": "stream",
     "text": [
      "[0, 1, 2, 3, 5, 6, 7, 8, 9, 15, 16, 17, 18, 19]\n",
      "[(0, 0), (1, 1), (2, 2), (3, 3), (5, 4), (6, 5), (7, 6), (8, 7), (9, 8), (15, 9), (16, 10), (17, 11), (18, 12), (19, 13)]\n",
      "[(0, 7, 10), (1, 8, 9), (2, 9, 8), (3, 10, 7)]\n"
     ]
    }
   ],
   "source": [
    "from itertools import chain\n",
    "\n",
    "tap_sinh = list(chain(range(4), range(5, 10), range(15, 20)))\n",
    "print(tap_sinh)\n",
    "\n",
    "tap = list(zip(tap_sinh, range(0, len(tap_sinh))))\n",
    "print(tap)\n",
    "\n",
    "moi_tap = list(zip(range(4), range(7, 12), reversed(range(11))))\n",
    "print(moi_tap)"
   ]
  },
  {
   "cell_type": "code",
   "execution_count": 6,
   "id": "7a33966d",
   "metadata": {},
   "outputs": [
    {
     "name": "stdout",
     "output_type": "stream",
     "text": [
      "3*x + 2\n"
     ]
    }
   ],
   "source": [
    "from sympy import Symbol\n",
    "x = Symbol('x') \n",
    "f = x + x + x + 2 \n",
    "print(f)  "
   ]
  },
  {
   "cell_type": "code",
   "execution_count": null,
   "id": "4a00bbb8",
   "metadata": {},
   "outputs": [
    {
     "name": "stdout",
     "output_type": "stream",
     "text": [
      "3*Chim + 7*Noi\n",
      "Noi\n",
      "Chim\n"
     ]
    }
   ],
   "source": [
    "from sympy import Symbol\n",
    "\n",
    "a = Symbol('Noi')\n",
    "b = Symbol('Chim')\n",
    "print(3*b + 7*a)  \n",
    "\n",
    "print(a.name)  \n",
    "print(b.name)  "
   ]
  },
  {
   "cell_type": "code",
   "execution_count": 8,
   "id": "8b3c93cd",
   "metadata": {},
   "outputs": [
    {
     "name": "stdout",
     "output_type": "stream",
     "text": [
      "2*x*y\n",
      "3*x**2\n",
      "(x - 3)*(x + 2) + (x + 2)*(y + 3)\n",
      "0\n",
      "x*y + 3*x + 2*y + 6\n"
     ]
    }
   ],
   "source": [
    "from sympy import Symbol\n",
    "\n",
    "x = Symbol('x')\n",
    "y = Symbol('y')\n",
    "s = x*y + y*x\n",
    "print(s)  \n",
    "\n",
    "p = x*(x + 2*x)\n",
    "print(p)  \n",
    "\n",
    "p = (x + 2)*(y + 3) + (x + 2)*(x - 3)\n",
    "print(p)  \n",
    "\n",
    "p = x*(-x + 2*x - x)\n",
    "print(p)  \n",
    "\n",
    "p = (x + 2)*(y + 3)\n",
    "print(p.expand())  "
   ]
  },
  {
   "cell_type": "code",
   "execution_count": 9,
   "id": "800ace24",
   "metadata": {},
   "outputs": [
    {
     "name": "stdout",
     "output_type": "stream",
     "text": [
      "(x - y)*(x**2 + x*y + y**2)\n",
      "x**3 - y**3\n"
     ]
    }
   ],
   "source": [
    "from sympy import Symbol, factor, expand\n",
    "\n",
    "x = Symbol('x')\n",
    "y = Symbol('y')\n",
    "\n",
    "bieuthuc = x**3 - y**3\n",
    "print(factor(bieuthuc))  # (x - y)*(x**2 + x*y + y**2)\n",
    "\n",
    "bieuthuc = (x - y)*(x**2 + x*y + y**2)\n",
    "print(expand(bieuthuc))  # x**3 - y**3"
   ]
  },
  {
   "cell_type": "code",
   "execution_count": null,
   "id": "1c13a4ea",
   "metadata": {},
   "outputs": [],
   "source": []
  }
 ],
 "metadata": {
  "kernelspec": {
   "display_name": "Python 3",
   "language": "python",
   "name": "python3"
  },
  "language_info": {
   "codemirror_mode": {
    "name": "ipython",
    "version": 3
   },
   "file_extension": ".py",
   "mimetype": "text/x-python",
   "name": "python",
   "nbconvert_exporter": "python",
   "pygments_lexer": "ipython3",
   "version": "3.11.9"
  }
 },
 "nbformat": 4,
 "nbformat_minor": 5
}
