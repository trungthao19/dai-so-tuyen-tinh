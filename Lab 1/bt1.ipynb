{
 "cells": [
  {
   "cell_type": "code",
   "execution_count": 2,
   "id": "a09abd42",
   "metadata": {},
   "outputs": [
    {
     "name": "stdout",
     "output_type": "stream",
     "text": [
      "[1.0, 3.0, 5.0, 7.0]\n",
      "[1.0, 3.0, 5.0, 7.0, 1.0, 3.0, 5.0, 7.0]\n",
      "[1.0, 3.0, 5.0, 7.0, 1.0, 3.0, 5.0, 7.0]\n"
     ]
    }
   ],
   "source": [
    "danhsach1 = [1., 3.]\n",
    "danhsach2 = [5., 7.]\n",
    "danhsach = danhsach1 + danhsach2\n",
    "print(danhsach)  \n",
    "\n",
    "danhsach_gapdoi = 2 * danhsach\n",
    "print(danhsach_gapdoi)  \n",
    "\n",
    "print(danhsach * 2)  \n"
   ]
  },
  {
   "cell_type": "code",
   "execution_count": 3,
   "id": "928b1a6d",
   "metadata": {},
   "outputs": [
    {
     "name": "stdout",
     "output_type": "stream",
     "text": [
      "<zip object at 0x0000018885791A00>\n",
      "{(2, 'ToanCC', 10), (3, 'DSTT', 9), (4, 'ToanRR', 8), (1, 'LaptrinhCB', 7)}\n",
      "('ToanCC', 'DSTT', 'ToanRR', 'LaptrinhCB')\n"
     ]
    }
   ],
   "source": [
    "mon_hoc = [\"ToanCC\", \"DSTT\", \"ToanRR\", \"LaptrinhCB\"]\n",
    "thu_tu = [2, 3, 4, 1]\n",
    "diem_so = [10, 9, 8, 7]\n",
    "anh_xa = zip(thu_tu, mon_hoc, diem_so)\n",
    "print(anh_xa)  # <zip object at ...> (memory address will vary)\n",
    "\n",
    "tap_hop = set(anh_xa)\n",
    "print(tap_hop)  # {(2, 'ToanCC', 10), (3, 'DSTT', 9), (4, 'ToanRR', 8), (1, 'LaptrinhCB', 7)}\n",
    "\n",
    "# Note: anh_xa is consumed after creating tap_hop, so we need to recreate it\n",
    "anh_xa = zip(thu_tu, mon_hoc, diem_so)\n",
    "lay_TT, lay_monhoc, lay_diem = zip(*anh_xa)\n",
    "print(lay_monhoc)  # ('ToanCC', 'DSTT', 'ToanRR', 'LaptrinhCB')"
   ]
  },
  {
   "cell_type": "code",
   "execution_count": 5,
   "id": "b2d0a06d",
   "metadata": {},
   "outputs": [
    {
     "name": "stdout",
     "output_type": "stream",
     "text": [
      "[0, 1, 2, 3, 5, 6, 7, 8, 9, 15, 16, 17, 18, 19]\n",
      "[(0, 0), (1, 1), (2, 2), (3, 3), (5, 4), (6, 5), (7, 6), (8, 7), (9, 8), (15, 9), (16, 10), (17, 11), (18, 12), (19, 13)]\n",
      "[(0, 7, 10), (1, 8, 9), (2, 9, 8), (3, 10, 7)]\n"
     ]
    }
   ],
   "source": [
    "from itertools import chain\n",
    "\n",
    "tap_sinh = list(chain(range(4), range(5, 10), range(15, 20)))\n",
    "print(tap_sinh)\n",
    "\n",
    "tap = list(zip(tap_sinh, range(0, len(tap_sinh))))\n",
    "print(tap)\n",
    "\n",
    "moi_tap = list(zip(range(4), range(7, 12), reversed(range(11))))\n",
    "print(moi_tap)"
   ]
  },
  {
   "cell_type": "code",
   "execution_count": 6,
   "id": "7a33966d",
   "metadata": {},
   "outputs": [
    {
     "name": "stdout",
     "output_type": "stream",
     "text": [
      "3*x + 2\n"
     ]
    }
   ],
   "source": [
    "from sympy import Symbol\n",
    "x = Symbol('x') \n",
    "f = x + x + x + 2 \n",
    "print(f)  "
   ]
  },
  {
   "cell_type": "code",
   "execution_count": null,
   "id": "4a00bbb8",
   "metadata": {},
   "outputs": [
    {
     "name": "stdout",
     "output_type": "stream",
     "text": [
      "3*Chim + 7*Noi\n",
      "Noi\n",
      "Chim\n"
     ]
    }
   ],
   "source": [
    "from sympy import Symbol\n",
    "\n",
    "a = Symbol('Noi')\n",
    "b = Symbol('Chim')\n",
    "print(3*b + 7*a)  \n",
    "\n",
    "print(a.name)  \n",
    "print(b.name)  "
   ]
  },
  {
   "cell_type": "code",
   "execution_count": 8,
   "id": "8b3c93cd",
   "metadata": {},
   "outputs": [
    {
     "name": "stdout",
     "output_type": "stream",
     "text": [
      "2*x*y\n",
      "3*x**2\n",
      "(x - 3)*(x + 2) + (x + 2)*(y + 3)\n",
      "0\n",
      "x*y + 3*x + 2*y + 6\n"
     ]
    }
   ],
   "source": [
    "from sympy import Symbol\n",
    "\n",
    "x = Symbol('x')\n",
    "y = Symbol('y')\n",
    "s = x*y + y*x\n",
    "print(s)  \n",
    "\n",
    "p = x*(x + 2*x)\n",
    "print(p)  \n",
    "\n",
    "p = (x + 2)*(y + 3) + (x + 2)*(x - 3)\n",
    "print(p)  \n",
    "\n",
    "p = x*(-x + 2*x - x)\n",
    "print(p)  \n",
    "\n",
    "p = (x + 2)*(y + 3)\n",
    "print(p.expand())  "
   ]
  },
  {
   "cell_type": "code",
   "execution_count": 9,
   "id": "800ace24",
   "metadata": {},
   "outputs": [
    {
     "name": "stdout",
     "output_type": "stream",
     "text": [
      "(x - y)*(x**2 + x*y + y**2)\n",
      "x**3 - y**3\n"
     ]
    }
   ],
   "source": [
    "from sympy import Symbol, factor, expand\n",
    "\n",
    "x = Symbol('x')\n",
    "y = Symbol('y')\n",
    "\n",
    "bieuthuc = x**3 - y**3\n",
    "print(factor(bieuthuc))  # (x - y)*(x**2 + x*y + y**2)\n",
    "\n",
    "bieuthuc = (x - y)*(x**2 + x*y + y**2)\n",
    "print(expand(bieuthuc))  # x**3 - y**3"
   ]
  },
  {
   "cell_type": "code",
   "execution_count": 10,
   "id": "1c13a4ea",
   "metadata": {},
   "outputs": [
    {
     "name": "stdout",
     "output_type": "stream",
     "text": [
      "x**2 - x*y + y**2\n",
      "7\n",
      "x\n",
      "y\n"
     ]
    }
   ],
   "source": [
    "from sympy import Symbol\n",
    "\n",
    "x = Symbol('x')\n",
    "y = Symbol('y')\n",
    "bieuthuc = x*x - x*y + y*y\n",
    "print(bieuthuc)  # x**2 - x*y + y**2\n",
    "\n",
    "giatri = bieuthuc.subs({x: 3, y: 2})\n",
    "print(giatri)  # 5\n",
    "\n",
    "print(x)  # x\n",
    "print(y)  # y"
   ]
  },
  {
   "cell_type": "code",
   "execution_count": 11,
   "id": "61e6ce8c",
   "metadata": {},
   "outputs": [
    {
     "name": "stdout",
     "output_type": "stream",
     "text": [
      "x**2 - 3*x + 9\n",
      "9\n",
      "9\n"
     ]
    }
   ],
   "source": [
    "from sympy import Symbol\n",
    "\n",
    "x = Symbol('x')\n",
    "y = Symbol('y')\n",
    "bieuthuc = x*x - x*y + y*y\n",
    "\n",
    "giatri = bieuthuc.subs({x: 3, y: x})\n",
    "print(giatri)\n",
    "\n",
    "giatri = bieuthuc.subs({x: y, y: 3})\n",
    "print(giatri)\n",
    "\n",
    "giatri = bieuthuc.subs({y: x}).subs({x: 3})\n",
    "print(giatri)"
   ]
  },
  {
   "cell_type": "code",
   "execution_count": 12,
   "id": "600918bc",
   "metadata": {},
   "outputs": [
    {
     "name": "stdout",
     "output_type": "stream",
     "text": [
      "x**2 - x*y + y**2\n",
      "y**2 - y*(1 - y) + (1 - y)**2\n",
      "3*y**2 - 3*y + 1\n",
      "sin(x + y)\n"
     ]
    }
   ],
   "source": [
    "from sympy import Symbol\n",
    "\n",
    "x = Symbol('x')\n",
    "y = Symbol('y')\n",
    "bieuthuc = x*x - x*y + y*y\n",
    "print(bieuthuc)\n",
    "\n",
    "bieuthuc_moi = bieuthuc.subs({x: 1 - y})\n",
    "print(bieuthuc_moi)\n",
    "\n",
    "from sympy import simplify\n",
    "dongian = simplify(bieuthuc_moi)\n",
    "print(dongian)\n",
    "\n",
    "from sympy import sin, cos\n",
    "x = Symbol('x')\n",
    "y = Symbol('y')\n",
    "bt = sin(x)*cos(y) + cos(x)*sin(y)\n",
    "bt_moi = simplify(bt)\n",
    "print(bt_moi)"
   ]
  },
  {
   "cell_type": "code",
   "execution_count": 14,
   "id": "980412e6",
   "metadata": {},
   "outputs": [
    {
     "name": "stdout",
     "output_type": "stream",
     "text": [
      "[ 2.  6. 10.]\n",
      "[ 1.  9. 25.]\n",
      "[0.5 1.5 2.5]\n",
      "[ 2.  6. 10.]\n",
      "[ 3.  7. 11.]\n",
      "[0.5        0.75       0.83333333]\n",
      "[ 2. 12. 30.]\n",
      "[12. 26. 40.]\n"
     ]
    }
   ],
   "source": [
    "import numpy as np\n",
    "\n",
    "vec1 = np.array([1., 3., 5.])\n",
    "print(vec1 * 2)\n",
    "\n",
    "print(vec1 * vec1)\n",
    "\n",
    "print(vec1 / 2)\n",
    "\n",
    "print(vec1 + vec1)\n",
    "\n",
    "vec2 = np.array([2., 4.])\n",
    "# print(vec1 + vec2)\n",
    "\n",
    "vec3 = np.array([2., 4., 6.])\n",
    "print(vec1 + vec3)\n",
    "\n",
    "print(vec1 / vec3)\n",
    "\n",
    "print(vec1 * vec3)\n",
    "\n",
    "print(2 * vec1 + 5 * vec3)"
   ]
  },
  {
   "cell_type": "code",
   "execution_count": 15,
   "id": "931376d1",
   "metadata": {},
   "outputs": [
    {
     "name": "stdout",
     "output_type": "stream",
     "text": [
      "6.0\n",
      "[ 0.  5. 10. 15. 20.]\n",
      "[0. 0. 0. 0. 0.]\n",
      "[1. 1. 1. 1. 1.]\n",
      "[1. 1. 1. 1. 1.]\n",
      "[0.48098368 0.09912562 0.25790112 0.91322491 0.35488916]\n"
     ]
    }
   ],
   "source": [
    "import numpy as np\n",
    "\n",
    "vec3 = np.array([2., 4., 6.])\n",
    "print(vec3[2])\n",
    "\n",
    "vec4 = np.linspace(0, 20, 5)\n",
    "print(vec4)\n",
    "\n",
    "vec5 = np.zeros(5)\n",
    "print(vec5)\n",
    "\n",
    "vec6 = np.ones(5)\n",
    "print(vec6)\n",
    "\n",
    "vec7 = np.empty(5)\n",
    "print(vec7)\n",
    "\n",
    "print(np.random.random(5))"
   ]
  },
  {
   "cell_type": "code",
   "execution_count": 16,
   "id": "ed0816f1",
   "metadata": {},
   "outputs": [
    {
     "name": "stdout",
     "output_type": "stream",
     "text": [
      "9.0\n",
      "(3,)\n",
      "[1. 3. 5.]\n",
      "[1. 3.]\n",
      "[5. 3. 5.]\n",
      "[5. 3.]\n",
      "[1. 2. 5.]\n",
      "[ 5. 10.]\n",
      "[ 5. 10.]\n",
      "[1. 2. 5.]\n",
      "[11. 12. 15.]\n",
      "[1.         1.41421356 2.23606798]\n",
      "[ 0.54030231 -0.41614684  0.28366219]\n",
      "[ 0.84147098  0.90929743 -0.95892427]\n",
      "43.0\n",
      "43.0\n",
      "43.0\n"
     ]
    }
   ],
   "source": [
    "import numpy as np\n",
    "\n",
    "v = np.array([1., 3., 5.])\n",
    "print(np.sum(v))\n",
    "\n",
    "print(v.shape)\n",
    "\n",
    "print(v.transpose())\n",
    "\n",
    "v1 = v[:2]\n",
    "print(v1)\n",
    "\n",
    "v[0] = 5\n",
    "print(v)\n",
    "\n",
    "print(v1)\n",
    "\n",
    "# v1[:2] = [1., 2., 3.]  # Error: Expected 2 elements, got 3\n",
    "\n",
    "v1[:2] = [1., 2.]\n",
    "print(v)\n",
    "\n",
    "v3 = 2 * v[:2] + v1 * 3\n",
    "print(v3)\n",
    "\n",
    "v1 = [4, 6]\n",
    "print(v3)\n",
    "\n",
    "print(v)\n",
    "\n",
    "print(v + 10.0)\n",
    "\n",
    "print(np.sqrt(v))\n",
    "\n",
    "print(np.cos(v))\n",
    "\n",
    "print(np.sin(v))\n",
    "\n",
    "v1 = np.array([1., 2.])\n",
    "v3 = np.array([11., 16.])\n",
    "print(np.dot(v1, v3))\n",
    "\n",
    "print(v1.dot(v3))\n",
    "\n",
    "print(v3.dot(v1))"
   ]
  }
 ],
 "metadata": {
  "kernelspec": {
   "display_name": "Python 3",
   "language": "python",
   "name": "python3"
  },
  "language_info": {
   "codemirror_mode": {
    "name": "ipython",
    "version": 3
   },
   "file_extension": ".py",
   "mimetype": "text/x-python",
   "name": "python",
   "nbconvert_exporter": "python",
   "pygments_lexer": "ipython3",
   "version": "3.11.9"
  }
 },
 "nbformat": 4,
 "nbformat_minor": 5
}
