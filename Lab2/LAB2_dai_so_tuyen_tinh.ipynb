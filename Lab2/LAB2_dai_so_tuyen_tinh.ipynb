{
  "cells": [
    {
      "cell_type": "code",
      "execution_count": null,
      "metadata": {
        "id": "S9cl69ArUUcm"
      },
      "outputs": [],
      "source": []
    },
    {
      "cell_type": "markdown",
      "metadata": {
        "id": "Zyo8p4lIUhZy"
      },
      "source": [
        "BÀI TẬP TRÊN LỚP"
      ]
    },
    {
      "cell_type": "code",
      "execution_count": null,
      "metadata": {
        "colab": {
          "base_uri": "https://localhost:8080/"
        },
        "id": "orWzbSsLUmv1",
        "outputId": "f184ad2e-593d-4e83-d09e-1c7ef6b1b664"
      },
      "outputs": [
        {
          "name": "stdout",
          "output_type": "stream",
          "text": [
            "[[3 4]\n",
            " [5 6]]\n"
          ]
        }
      ],
      "source": [
        "#bt1\n",
        "import numpy as np\n",
        "from scipy import linalg, sparse\n",
        "D = np.asmatrix([ [3,4], [5,6] ])\n",
        "print(D)"
      ]
    },
    {
      "cell_type": "code",
      "execution_count": null,
      "metadata": {
        "colab": {
          "base_uri": "https://localhost:8080/"
        },
        "id": "GeiAu_qfW-XH",
        "outputId": "59a2ed64-5480-40ba-c6d3-c3b585a99856"
      },
      "outputs": [
        {
          "name": "stdout",
          "output_type": "stream",
          "text": [
            "[[0.21312659 0.46035668 0.83827075 0.50018069 0.57961424 0.1185159\n",
            "  0.15941423]\n",
            " [0.67750938 0.34158565 0.72314727 0.03276693 0.09435749 0.59832191\n",
            "  0.71322665]\n",
            " [0.72465079 0.07396125 0.9358717  0.88866176 0.61502148 0.51584774\n",
            "  0.7304909 ]\n",
            " [0.82213172 0.10322254 0.00412612 0.95788432 0.39772213 0.23526798\n",
            "  0.61705198]\n",
            " [0.22233169 0.98905274 0.96754972 0.88734806 0.66145728 0.431495\n",
            "  0.23648363]]\n"
          ]
        }
      ],
      "source": [
        "#bt2\n",
        "C=np.asmatrix(np.random.random((5,7)))\n",
        "print(C)"
      ]
    },
    {
      "cell_type": "code",
      "execution_count": null,
      "metadata": {
        "colab": {
          "base_uri": "https://localhost:8080/"
        },
        "id": "aENqXSMJXOBV",
        "outputId": "f55257c6-dcf9-4fca-b992-525a2763272e"
      },
      "outputs": [
        {
          "name": "stdout",
          "output_type": "stream",
          "text": [
            "[[0.78559293 0.23869631]\n",
            " [0.8786127  0.98430641]]\n"
          ]
        }
      ],
      "source": [
        "#bt3\n",
        "A=np.asmatrix(np.random.random((2,2)))\n",
        "print(A)"
      ]
    },
    {
      "cell_type": "code",
      "execution_count": null,
      "metadata": {
        "colab": {
          "base_uri": "https://localhost:8080/"
        },
        "id": "yOHd-uGMXa3j",
        "outputId": "9a75cd7f-8b95-4e23-86ab-2ffb20393166"
      },
      "outputs": [
        {
          "name": "stdout",
          "output_type": "stream",
          "text": [
            "[[1.+5.j 0.+2.j 0.+3.j]\n",
            " [4.+0.j 5.+0.j 6.+0.j]]\n",
            "[[1.+5.j 0.+2.j 0.+3.j]\n",
            " [4.+0.j 5.+0.j 6.+0.j]]\n"
          ]
        }
      ],
      "source": [
        "#bt4,5\n",
        "b = np.array([(1+5j, 2j, 3j),(4, 5,6)])\n",
        "B = np.asmatrix(b)\n",
        "print(b)\n",
        "print(B)"
      ]
    },
    {
      "cell_type": "code",
      "execution_count": null,
      "metadata": {
        "colab": {
          "base_uri": "https://localhost:8080/"
        },
        "id": "bPSYvwJ5YCr_",
        "outputId": "3edef421-749b-4d4f-fdce-f471ab17cbf8"
      },
      "outputs": [
        {
          "name": "stdout",
          "output_type": "stream",
          "text": [
            "[[0.78559293 0.8786127 ]\n",
            " [0.23869631 0.98430641]]\n",
            "[[ 1.74664082 -0.42356396]\n",
            " [-1.55908851  1.39402595]]\n"
          ]
        }
      ],
      "source": [
        "#bt6\n",
        "print(A.T)\n",
        "print(A.I)"
      ]
    },
    {
      "cell_type": "code",
      "execution_count": null,
      "metadata": {
        "colab": {
          "base_uri": "https://localhost:8080/"
        },
        "id": "K8aOrZFkYZur",
        "outputId": "7f52957f-c4b5-4b9a-ec3c-f45f0c50756b"
      },
      "outputs": [
        {
          "name": "stdout",
          "output_type": "stream",
          "text": [
            "[[-1  0  0]\n",
            " [ 0 -2  0]\n",
            " [ 1  5 -2]]\n"
          ]
        }
      ],
      "source": [
        "#bt7\n",
        "linalg.inv(A)\n",
        "M = np.array([[-1,3,2],[0,-2,1],[1,5,-2]])\n",
        "M_lower = np.tril(M)\n",
        "print(M_lower)"
      ]
    },
    {
      "cell_type": "code",
      "execution_count": null,
      "metadata": {
        "colab": {
          "base_uri": "https://localhost:8080/"
        },
        "id": "chqOy31YYrKQ",
        "outputId": "79c6210e-ad12-44e8-f1e2-59306559c3ed"
      },
      "outputs": [
        {
          "name": "stdout",
          "output_type": "stream",
          "text": [
            "[[-1  3  2]\n",
            " [ 0 -2  1]\n",
            " [ 0  0 -2]]\n"
          ]
        }
      ],
      "source": [
        "#bt8\n",
        "M = np.array([[-1,3,2],[0,-\n",
        "2,1],[1,5,-2]])\n",
        "M_upper = np.triu(M)\n",
        "print(M_upper)"
      ]
    },
    {
      "cell_type": "code",
      "execution_count": null,
      "metadata": {
        "colab": {
          "base_uri": "https://localhost:8080/"
        },
        "id": "h-29XJ7qY6N1",
        "outputId": "575e6a23-5017-4aa5-9858-9f6036b1348e"
      },
      "outputs": [
        {
          "name": "stdout",
          "output_type": "stream",
          "text": [
            "[-1 -2 -2]\n"
          ]
        }
      ],
      "source": [
        "#bt9\n",
        "M = np.array([[-1,3,2],[0,-\n",
        "2,1],[1,5,-2]])\n",
        "v_diag = np.diag(M) #vectorđường chéo\n",
        "print (v_diag)"
      ]
    },
    {
      "cell_type": "code",
      "execution_count": null,
      "metadata": {
        "colab": {
          "base_uri": "https://localhost:8080/"
        },
        "id": "P0sg4WSyY8Ot",
        "outputId": "f623a204-f849-4e51-b51f-9775db45c051"
      },
      "outputs": [
        {
          "name": "stdout",
          "output_type": "stream",
          "text": [
            "[[-1  0  0]\n",
            " [ 0 -2  0]\n",
            " [ 0  0 -2]]\n"
          ]
        }
      ],
      "source": [
        "#bt10\n",
        "M_diag = np.diag(v_diag)\n",
        "print (M_diag)"
      ]
    },
    {
      "cell_type": "code",
      "execution_count": null,
      "metadata": {
        "colab": {
          "base_uri": "https://localhost:8080/"
        },
        "id": "5dyw1IwvZRtA",
        "outputId": "5f45e75f-2164-412b-da42-fbd7d7726023"
      },
      "outputs": [
        {
          "name": "stdout",
          "output_type": "stream",
          "text": [
            "[]\n"
          ]
        }
      ],
      "source": [
        "#Bài tập dẫn nhập\n",
        "import sympy as sp\n",
        "x = sp.Symbol('x')\n",
        "y = sp.Symbol('y')\n",
        "z = sp.Symbol('z')\n",
        "f=sp.solve([x*x + 2 - 6,y - 1 - 6,x*z - 1,2*x*x - 8,z*z + 4 - 5,y - z - 8], [x, y, z])\n",
        "print(f)"
      ]
    },
    {
      "cell_type": "code",
      "execution_count": null,
      "metadata": {
        "colab": {
          "base_uri": "https://localhost:8080/"
        },
        "id": "Ee-4njjuaUZS",
        "outputId": "a2c98738-7554-4256-ea69-6cfea81d0fb1"
      },
      "outputs": [
        {
          "name": "stdout",
          "output_type": "stream",
          "text": [
            "True\n",
            "False\n"
          ]
        }
      ],
      "source": [
        "x = [1, 2, 3]\n",
        "y = [1, 2, 3]\n",
        "print(all([x[i] == y[i] for i in range(len(x))]))  # True\n",
        "\n",
        "y = [1, 2, 4]\n",
        "print(all([x[i] == y[i] for i in range(len(x))]))  # False\n"
      ]
    },
    {
      "cell_type": "code",
      "execution_count": null,
      "metadata": {
        "colab": {
          "base_uri": "https://localhost:8080/"
        },
        "id": "QnEaWrbLbSg9",
        "outputId": "3992e526-02dc-4960-a2ce-96f38a095e09"
      },
      "outputs": [
        {
          "name": "stdout",
          "output_type": "stream",
          "text": [
            "True\n",
            "True\n"
          ]
        }
      ],
      "source": [
        "import numpy as np\n",
        "\n",
        "print(np.array_equal([1, 2], [1, 2]))  # True\n",
        "print(np.array_equal(np.array([1, 2]), np.array([1, 2])))  # True\n"
      ]
    },
    {
      "cell_type": "code",
      "execution_count": null,
      "metadata": {
        "colab": {
          "base_uri": "https://localhost:8080/"
        },
        "id": "XL0TCkdKbY15",
        "outputId": "8a75de15-931e-4bc9-e2ad-7328147cfc86"
      },
      "outputs": [
        {
          "name": "stdout",
          "output_type": "stream",
          "text": [
            "[[ 0.  1.  2.  3.  4.  5.]\n",
            " [ 6.  7.  8.  9. 10. 11.]\n",
            " [12. 13. 14. 15. 16. 17.]\n",
            " [18. 19. 20. 21. 22. 23.]\n",
            " [24. 25. 26. 27. 28. 29.]\n",
            " [30. 31. 32. 33. 34. 35.]]\n"
          ]
        }
      ],
      "source": [
        "A = np.reshape(np.arange(36.0), (6,6))\n",
        "print(A)"
      ]
    },
    {
      "cell_type": "code",
      "execution_count": null,
      "metadata": {
        "colab": {
          "base_uri": "https://localhost:8080/"
        },
        "id": "KEbRswOkbmXa",
        "outputId": "832e9fc5-baca-44f6-f0d0-8ff90407916b"
      },
      "outputs": [
        {
          "name": "stdout",
          "output_type": "stream",
          "text": [
            "[[1. 0. 0. 0. 0. 0.]\n",
            " [0. 1. 0. 0. 0. 0.]\n",
            " [0. 0. 1. 0. 0. 0.]\n",
            " [0. 0. 0. 1. 0. 0.]\n",
            " [0. 0. 0. 0. 1. 0.]\n",
            " [0. 0. 0. 0. 0. 1.]]\n"
          ]
        }
      ],
      "source": [
        "I6 = np.identity(6)\n",
        "print(I6)\n"
      ]
    },
    {
      "cell_type": "code",
      "execution_count": null,
      "metadata": {
        "colab": {
          "base_uri": "https://localhost:8080/"
        },
        "id": "x_ssLL7icAHF",
        "outputId": "1fc47fc9-bce9-44fd-9813-5e35a8eb79ee"
      },
      "outputs": [
        {
          "name": "stdout",
          "output_type": "stream",
          "text": [
            "36\n"
          ]
        }
      ],
      "source": [
        "A=A.size\n",
        "print(A)"
      ]
    },
    {
      "cell_type": "code",
      "execution_count": null,
      "metadata": {
        "colab": {
          "base_uri": "https://localhost:8080/"
        },
        "id": "-f5XQVFbcAGY",
        "outputId": "6b7d74e8-fa79-4fef-85d9-c474662ba241"
      },
      "outputs": [
        {
          "name": "stdout",
          "output_type": "stream",
          "text": [
            "[[ 0.  1.  2.  3.  4.  5.]\n",
            " [ 6.  7.  8.  9. 10. 11.]\n",
            " [12. 13. 14. 15. 16. 17.]\n",
            " [18. 19. 20. 21. 22. 23.]\n",
            " [24. 25. 26. 27. 28. 29.]\n",
            " [30. 31. 32. 33. 34. 35.]]\n"
          ]
        }
      ],
      "source": [
        "A = np.reshape(np.arange(36.0), (6,6))\n",
        "print(A)\n",
        "\n",
        "\n"
      ]
    },
    {
      "cell_type": "code",
      "execution_count": null,
      "metadata": {
        "colab": {
          "base_uri": "https://localhost:8080/"
        },
        "id": "z-XEIBShfKNB",
        "outputId": "17cca972-1c9b-4340-be87-9d86c9e01394"
      },
      "outputs": [
        {
          "name": "stdout",
          "output_type": "stream",
          "text": [
            "[[1. 0. 0. 0. 0. 0.]\n",
            " [0. 1. 0. 0. 0. 0.]\n",
            " [0. 0. 1. 0. 0. 0.]\n",
            " [0. 0. 0. 1. 0. 0.]\n",
            " [0. 0. 0. 0. 1. 0.]\n",
            " [0. 0. 0. 0. 0. 1.]]\n"
          ]
        }
      ],
      "source": [
        "I6 = np.identity(6)\n",
        "print(I6)"
      ]
    },
    {
      "cell_type": "code",
      "execution_count": null,
      "metadata": {
        "colab": {
          "base_uri": "https://localhost:8080/"
        },
        "id": "Pxs4gltKfN9F",
        "outputId": "3ef15f60-1b35-40a8-bce9-cab96d77c465"
      },
      "outputs": [
        {
          "name": "stdout",
          "output_type": "stream",
          "text": [
            "36\n"
          ]
        }
      ],
      "source": [
        "a=A.size\n",
        "print(a)"
      ]
    },
    {
      "cell_type": "code",
      "execution_count": null,
      "metadata": {
        "colab": {
          "base_uri": "https://localhost:8080/"
        },
        "id": "-ysMcd_ufTvl",
        "outputId": "4405b2ee-0790-406c-efd1-4562d213639a"
      },
      "outputs": [
        {
          "name": "stdout",
          "output_type": "stream",
          "text": [
            "[ 0.  7. 14. 21. 28. 35.]\n"
          ]
        }
      ],
      "source": [
        "a=np.matrix.diagonal(A)\n",
        "print(a)"
      ]
    },
    {
      "cell_type": "code",
      "execution_count": null,
      "metadata": {
        "colab": {
          "base_uri": "https://localhost:8080/"
        },
        "id": "P3P7i2Q2fcHO",
        "outputId": "67313944-9bba-4f6f-9f39-e8b648e60ba0"
      },
      "outputs": [
        {
          "name": "stdout",
          "output_type": "stream",
          "text": [
            "[[ 1.  1.  2.  3.  4.  5.]\n",
            " [ 6.  8.  8.  9. 10. 11.]\n",
            " [12. 13. 15. 15. 16. 17.]\n",
            " [18. 19. 20. 22. 22. 23.]\n",
            " [24. 25. 26. 27. 29. 29.]\n",
            " [30. 31. 32. 33. 34. 36.]]\n"
          ]
        }
      ],
      "source": [
        "A = A + I6\n",
        "print(A)"
      ]
    },
    {
      "cell_type": "code",
      "execution_count": null,
      "metadata": {
        "colab": {
          "base_uri": "https://localhost:8080/"
        },
        "id": "KDKPynHZfi8D",
        "outputId": "8831a012-ac29-4230-b642-f06ec4ff9446"
      },
      "outputs": [
        {
          "name": "stdout",
          "output_type": "stream",
          "text": [
            "[ 71. 198. 325. 452. 579. 706.]\n"
          ]
        }
      ],
      "source": [
        "vecB = np.array([1., 2., 3., 4., 5., 6.])\n",
        "C = A.dot(vecB)\n",
        "print(C)"
      ]
    },
    {
      "cell_type": "code",
      "execution_count": null,
      "metadata": {
        "colab": {
          "base_uri": "https://localhost:8080/"
        },
        "id": "kViT5Ogbfpup",
        "outputId": "bb33d0d6-f10e-4db0-ac69-5ebfff62196a"
      },
      "outputs": [
        {
          "name": "stdout",
          "output_type": "stream",
          "text": [
            "[[1. 2. 3. 4. 5. 6.]\n",
            " [1. 0. 1. 0. 1. 0.]]\n"
          ]
        }
      ],
      "source": [
        "D = np.array([[1., 2., 3., 4., 5., 6.], [1., 0., 1., 0., 1., 0.]])\n",
        "print(D)"
      ]
    },
    {
      "cell_type": "code",
      "execution_count": null,
      "metadata": {
        "colab": {
          "base_uri": "https://localhost:8080/"
        },
        "id": "qD5sCqjTfwxJ",
        "outputId": "1d6b8da3-e574-4d6e-be0d-8a7fdcf7d61e"
      },
      "outputs": [
        {
          "name": "stdout",
          "output_type": "stream",
          "text": [
            "[[ 71.   7.]\n",
            " [198.  24.]\n",
            " [325.  43.]\n",
            " [452.  60.]\n",
            " [579.  79.]\n",
            " [706.  96.]]\n"
          ]
        }
      ],
      "source": [
        "E = A.dot(D.T)\n",
        "print(E)"
      ]
    },
    {
      "cell_type": "code",
      "execution_count": null,
      "metadata": {
        "colab": {
          "base_uri": "https://localhost:8080/"
        },
        "id": "N3jBn7nrgJd1",
        "outputId": "98e36ae3-5bfd-45c6-e189-d47a93b8cf8c"
      },
      "outputs": [
        {
          "name": "stdout",
          "output_type": "stream",
          "text": [
            "[[1. 1.]\n",
            " [2. 0.]\n",
            " [3. 1.]\n",
            " [4. 0.]\n",
            " [5. 1.]\n",
            " [6. 0.]]\n",
            "[[ 71.   7.]\n",
            " [198.  24.]\n",
            " [325.  43.]\n",
            " [452.  60.]\n",
            " [579.  79.]\n",
            " [706.  96.]]\n"
          ]
        }
      ],
      "source": [
        "F = np.array([[1., 1.], [2., 0.], [3., 1.], [4., 0], [5., 1], [6., 0.]])\n",
        "G = A.dot(F)\n",
        "print(F)\n",
        "print(G)"
      ]
    },
    {
      "cell_type": "code",
      "execution_count": null,
      "metadata": {
        "colab": {
          "base_uri": "https://localhost:8080/"
        },
        "id": "59dPru5bgThB",
        "outputId": "014e7d90-6b41-447f-a102-b5d91b8ee605"
      },
      "outputs": [
        {
          "name": "stdout",
          "output_type": "stream",
          "text": [
            "[[ 0.37022901 -0.45610687 -0.28244275 -0.10877863  0.0648855   0.23854962]\n",
            " [-0.44656489  0.65839695 -0.23664122 -0.13167939 -0.02671756  0.07824427]\n",
            " [-0.26335878 -0.22709924  0.80916031 -0.15458015 -0.11832061 -0.08206107]\n",
            " [-0.08015267 -0.11259542 -0.14503817  0.82251908 -0.20992366 -0.24236641]\n",
            " [ 0.10305344  0.0019084  -0.09923664 -0.20038168  0.69847328 -0.40267176]\n",
            " [ 0.28625954  0.11641221 -0.05343511 -0.22328244 -0.39312977  0.4370229 ]]\n"
          ]
        }
      ],
      "source": [
        "a=np.linalg.inv(A)\n",
        "print(a)"
      ]
    },
    {
      "cell_type": "code",
      "execution_count": null,
      "metadata": {
        "colab": {
          "base_uri": "https://localhost:8080/"
        },
        "id": "j7FCUg09gYS4",
        "outputId": "b4f2b29d-06a7-4ddb-89c1-e1564434b17d"
      },
      "outputs": [
        {
          "name": "stdout",
          "output_type": "stream",
          "text": [
            "[[ 1.  1.  2.  3.  4.  5.]\n",
            " [ 6.  8.  8.  9. 10. 11.]\n",
            " [12. 13. 15. 15. 16. 17.]\n",
            " [18. 19. 20. 22. 22. 23.]\n",
            " [24. 25. 26. 27. 29. 29.]\n",
            " [30. 31. 32. 33. 34. 36.]]\n"
          ]
        }
      ],
      "source": [
        "a=np.linalg.inv(np.linalg.inv(A))\n",
        "print(a)"
      ]
    },
    {
      "cell_type": "code",
      "execution_count": null,
      "metadata": {
        "colab": {
          "base_uri": "https://localhost:8080/"
        },
        "id": "UA16AP2Mgrr0",
        "outputId": "d99ee091-3ce0-4b36-990a-3942b3ec7a00"
      },
      "outputs": [
        {
          "name": "stdout",
          "output_type": "stream",
          "text": [
            "[1 1]\n",
            "[2 1]\n",
            "[3 2]\n",
            "[5 3]\n",
            "[8 5]\n",
            "[13  8]\n",
            "[21 13]\n",
            "[34 21]\n",
            "[55 34]\n",
            "[89 55]\n"
          ]
        }
      ],
      "source": [
        "import numpy as np\n",
        "\n",
        "A = np.array([[1, 1], [1, 0]])\n",
        "b = np.array([1, 0])\n",
        "n = 10\n",
        "\n",
        "for i in range(n):\n",
        "    b = A.dot(b)\n",
        "    print(b)\n"
      ]
    },
    {
      "cell_type": "code",
      "execution_count": null,
      "metadata": {
        "colab": {
          "base_uri": "https://localhost:8080/"
        },
        "id": "XRq-ior-g7VE",
        "outputId": "69628893-e097-4c84-c8eb-fa25edcdf7a8"
      },
      "outputs": [
        {
          "name": "stdout",
          "output_type": "stream",
          "text": [
            "{x1: x4 + 160, x2: x4 - 80, x3: x4 + 520}\n"
          ]
        }
      ],
      "source": [
        "import sympy as sp\n",
        "from sympy import Symbol, solve\n",
        "\n",
        "\n",
        "x1 = Symbol('x1')\n",
        "x2 = Symbol('x2')\n",
        "x3 = Symbol('x3')\n",
        "x4 = Symbol('x4')\n",
        "from sympy import solve\n",
        "pt1 = x4 + 610 - 450 - x1\n",
        "pt2 = x1 + 400 - x2 - 640\n",
        "pt3 = x2 + 600 - x3\n",
        "pt4 = x3 - x4 - 520\n",
        "nghiem = solve((pt1, pt2, pt3, pt4))\n",
        "print(nghiem)\n"
      ]
    },
    {
      "cell_type": "code",
      "execution_count": null,
      "metadata": {
        "id": "tBbE2QKKhloM"
      },
      "outputs": [],
      "source": []
    },
    {
      "cell_type": "markdown",
      "metadata": {},
      "source": [
        "bài tập về nhà"
      ]
    },
    {
      "cell_type": "code",
      "execution_count": 10,
      "metadata": {},
      "outputs": [
        {
          "name": "stdout",
          "output_type": "stream",
          "text": [
            "Problem 1 : [0. 2.]\n",
            "Problem 2 : [3. 1. 2.]\n",
            "Problem 3 : [ 1. -4.  7.]\n",
            "Problem 4 : [-0.11111111 -0.66666667  1.11111111]\n"
          ]
        }
      ],
      "source": [
        "#bt1\n",
        "#Vấn đề 1 (Problem 1): Tìm điểm giao giữa hai đường thẳng trong ℝ. \n",
        "import numpy as np\n",
        "A1 = np.array([[1, -1], [2, 3]])\n",
        "b1 = np.array([-2, 6])\n",
        "pt1 = np.linalg.solve(A1, b1)\n",
        "print(\"Problem 1 :\", pt1)\n",
        "\n",
        "# Vấn đề 2 (Problem 2): Tìm giao điểm giữa ba mặt phẳng trong ℝ. \n",
        "\n",
        "A2 = np.array([[1, -1, 0], [2, -1, -1], [1, 1, 1]])\n",
        "b2 = np.array([2, 3, 6])\n",
        "pt2 = np.linalg.solve(A2, b2)\n",
        "print(\"Problem 2 :\", pt2)\n",
        "\n",
        "# Vấn đề 3 (Problem 3): Tìm các hệ số đa thức để đa thức thỏa các nghiệm. \n",
        "A3 = np.array([[1, 1, 1], [4, 2, 1], [9, 3, 1]])\n",
        "b3 = np.array([4, 3, 4])\n",
        "pt3 = np.linalg.solve(A3, b3)\n",
        "print(\"Problem 3 :\", pt3)\n",
        "# Vấn đề 4 (Problem 4)Tìm các hệ đa thức khi phân rã để tính tích phân.\n",
        "\n",
        "A4 = np.array([[1, 0, 1], [1, 1, -2], [-2, 2, 1]])\n",
        "b4 = np.array([1, -3, 0])\n",
        "pt4 = np.linalg.solve(A4, b4)\n",
        "print(\"Problem 4 :\", pt4)"
      ]
    },
    {
      "cell_type": "code",
      "execution_count": 4,
      "metadata": {},
      "outputs": [
        {
          "name": "stdout",
          "output_type": "stream",
          "text": [
            "Problem 1: {x: 0, y: 2}\n",
            "Problem 2: {x: 3, y: 1, z: 2}\n",
            "Problem 3: {a: 1, b: -4, c: 7}\n",
            "Problem 4: {a: -1/9, b: -2/3, c: 10/9}\n"
          ]
        }
      ],
      "source": [
        "# Câu 2: Hãy viết các câu lệnh của sympy để giải các phương trình ở Câu 1. \n",
        "from sympy import symbols, Eq, solve\n",
        "\n",
        "x, y = symbols('x y')\n",
        "eq1 = Eq(x - y, -2)\n",
        "eq2 = Eq(2*x + 3*y, 6)\n",
        "solution1 = solve((eq1, eq2), (x, y))\n",
        "print(\"Problem 1:\", solution1)\n",
        "\n",
        "z = symbols('z')\n",
        "eq1 = Eq(x - y, 2)\n",
        "eq2 = Eq(2*x - y - z, 3)\n",
        "eq3 = Eq(x + y + z, 6)\n",
        "solution2 = solve((eq1, eq2, eq3), (x, y, z))\n",
        "print(\"Problem 2:\", solution2)\n",
        "\n",
        "a, b, c = symbols('a b c')\n",
        "eq1 = Eq(a + b + c, 4)\n",
        "eq2 = Eq(4*a + 2*b + c, 3)\n",
        "eq3 = Eq(9*a + 3*b + c, 4)\n",
        "solution3 = solve((eq1, eq2, eq3), (a, b, c))\n",
        "print(\"Problem 3:\", solution3)\n",
        "\n",
        "eq1 = Eq(a + c, 1)\n",
        "eq2 = Eq(a + b - 2*c, -3)\n",
        "eq3 = Eq(-2*a + 2*b + c, 0)\n",
        "solution4 = solve((eq1, eq2, eq3), (a, b, c))\n",
        "print(\"Problem 4:\", solution4)\n",
        "\n"
      ]
    },
    {
      "cell_type": "code",
      "execution_count": 5,
      "metadata": {},
      "outputs": [
        {
          "name": "stdout",
          "output_type": "stream",
          "text": [
            "F^5 = \n",
            "⎡8  5⎤\n",
            "⎢    ⎥\n",
            "⎣5  3⎦\n",
            "\n",
            "So sánh với dãy Fibonacci:\n",
            "Fibonacci[6] = 8\n",
            "Fibonacci[5] = 5\n",
            "Fibonacci[4] = 3\n",
            "\n",
            "=> Các phần tử ma trận là:\n",
            "Fk[0,0] = 8 == Fibonacci[6]\n",
            "Fk[0,1] = 5 == Fibonacci[5]\n",
            "Fk[1,0] = 5 == Fibonacci[5]\n",
            "Fk[1,1] = 3 == Fibonacci[4]\n"
          ]
        }
      ],
      "source": [
        "# Câu 3: \n",
        "from sympy import Matrix, pprint\n",
        "\n",
        "# Hàm tính số Fibonacci dùng quy hoạch động\n",
        "def fibonacci(n):\n",
        "    fib = [0, 1]\n",
        "    for i in range(2, n+2):\n",
        "        fib.append(fib[-1] + fib[-2])\n",
        "    return fib\n",
        "\n",
        "# Tính lũy thừa ma trận F^k\n",
        "def matrix_power_F(k):\n",
        "    F = Matrix([[1, 1],\n",
        "                [1, 0]])\n",
        "    return F**k\n",
        "\n",
        "# Kiểm tra ma trận chứa Fibonacci[k+1], Fibonacci[k], Fibonacci[k-1]\n",
        "def verify_fibonacci_matrix(k):\n",
        "    fib = fibonacci(k+1)\n",
        "    Fk = matrix_power_F(k)\n",
        "    print(f\"F^{k} = \")\n",
        "    pprint(Fk)\n",
        "\n",
        "    print(\"\\nSo sánh với dãy Fibonacci:\")\n",
        "    print(f\"Fibonacci[{k+1}] =\", fib[k+1])\n",
        "    print(f\"Fibonacci[{k}] =\", fib[k])\n",
        "    print(f\"Fibonacci[{k-1}] =\", fib[k-1])\n",
        "\n",
        "    print(\"\\n=> Các phần tử ma trận là:\")\n",
        "    print(\"Fk[0,0] =\", Fk[0, 0], \"== Fibonacci[{}]\".format(k+1))\n",
        "    print(\"Fk[0,1] =\", Fk[0, 1], \"== Fibonacci[{}]\".format(k))\n",
        "    print(\"Fk[1,0] =\", Fk[1, 0], \"== Fibonacci[{}]\".format(k))\n",
        "    print(\"Fk[1,1] =\", Fk[1, 1], \"== Fibonacci[{}]\".format(k-1))\n",
        "\n",
        "# Ví dụ: Kiểm tra với k = 5\n",
        "verify_fibonacci_matrix(5)\n"
      ]
    }
  ],
  "metadata": {
    "colab": {
      "provenance": []
    },
    "kernelspec": {
      "display_name": "Python 3",
      "name": "python3"
    },
    "language_info": {
      "codemirror_mode": {
        "name": "ipython",
        "version": 3
      },
      "file_extension": ".py",
      "mimetype": "text/x-python",
      "name": "python",
      "nbconvert_exporter": "python",
      "pygments_lexer": "ipython3",
      "version": "3.11.9"
    }
  },
  "nbformat": 4,
  "nbformat_minor": 0
}
