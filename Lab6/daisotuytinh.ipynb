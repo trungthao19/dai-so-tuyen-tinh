{
 "cells": [
  {
   "cell_type": "code",
   "execution_count": 2,
   "id": "8b945d35",
   "metadata": {},
   "outputs": [
    {
     "name": "stdout",
     "output_type": "stream",
     "text": [
      "32\n",
      "32\n"
     ]
    }
   ],
   "source": [
    "import numpy as np \n",
    "a = np.array([1,2,3]) \n",
    "b = np.array([4,5,6]) \n",
    "tich = np.inner(a,b)  # tích vô hướng \n",
    "print (tich)\n",
    "print(np.dot(a,b))"
   ]
  },
  {
   "cell_type": "code",
   "execution_count": 3,
   "id": "b0e55c6e",
   "metadata": {},
   "outputs": [
    {
     "name": "stdout",
     "output_type": "stream",
     "text": [
      "3.7416573867739413\n"
     ]
    }
   ],
   "source": [
    "import numpy as np \n",
    "a = np.array([1,2,-3]) \n",
    "print(np.linalg.norm(a))"
   ]
  },
  {
   "cell_type": "code",
   "execution_count": 5,
   "id": "79f0c932",
   "metadata": {},
   "outputs": [
    {
     "name": "stdout",
     "output_type": "stream",
     "text": [
      "6.0\n"
     ]
    }
   ],
   "source": [
    "a = np.array([1,2,-3]) \n",
    "print(np.linalg.norm(a,1) )"
   ]
  },
  {
   "cell_type": "code",
   "execution_count": 10,
   "id": "9a4d5be0",
   "metadata": {},
   "outputs": [
    {
     "name": "stdout",
     "output_type": "stream",
     "text": [
      "6.0\n",
      "6.0\n",
      "3.7416573867739413\n",
      "3.7416573867739413\n",
      "3.3019272488946263\n",
      "3.3019272488946263\n",
      "1.0442214818467515\n",
      "inf\n",
      "3.7416573867739413\n",
      "3.0\n",
      "inf\n"
     ]
    }
   ],
   "source": [
    "import math\n",
    "import numpy as np\n",
    "from scipy import linalg \n",
    "a = np.array([1, 2, -3])\n",
    "\n",
    "def chuan(a, p):\n",
    "    tong = 0\n",
    "    for x in a:\n",
    "        tong = tong + abs(x) ** p\n",
    "    ketqua = math.pow(tong, 1.0 / p)\n",
    "    return ketqua\n",
    "\n",
    "print(chuan(a, 1))\n",
    "print(np.linalg.norm(a, 1))\n",
    "print(chuan(a, 2))\n",
    "print(np.linalg.norm(a, 2))\n",
    "print(chuan(a, 3))\n",
    "print(np.linalg.norm(a, 3))\n",
    "print(chuan(a, 1000))\n",
    "print(np.linalg.norm(a, 1000))\n",
    "print(linalg.norm(a))\n",
    "print(linalg.norm(a, 100))\n",
    "print(linalg.norm(a, 1000))\n",
    "\n"
   ]
  },
  {
   "cell_type": "code",
   "execution_count": 11,
   "id": "be49dfc7",
   "metadata": {},
   "outputs": [
    {
     "name": "stdout",
     "output_type": "stream",
     "text": [
      "⎧   68         ⎫\n",
      "⎨x: ──, y: 1/69⎬\n",
      "⎩   69         ⎭\n"
     ]
    }
   ],
   "source": [
    "import sympy as sym \n",
    "x, y = sym.symbols('x y') \n",
    "xy = sym.Matrix([x,y])\n",
    "A = sym.Matrix([[1, -68],[1,1]]) \n",
    "v = sym.Matrix([0, 1])                             \n",
    "nghiem = sym.solve([A*xy-v])   \n",
    "print(sym.pretty(nghiem))"
   ]
  },
  {
   "cell_type": "code",
   "execution_count": 12,
   "id": "38190513",
   "metadata": {},
   "outputs": [
    {
     "name": "stdout",
     "output_type": "stream",
     "text": [
      "[-7.000, 3.000]\n",
      "[-7, 3]\n"
     ]
    }
   ],
   "source": [
    "import sympy \n",
    "x, y, Lambda = sympy.symbols('x y Lambda') \n",
    "I = sympy.eye(2) \n",
    "\n",
    "A = sympy.Matrix([[2,3],[3,-6]]) \n",
    "phuongtrinh = sympy.Eq(sympy.det(Lambda*I-A), 0) \n",
    "nghiem = sympy.solve(phuongtrinh) \n",
    "print([sympy.N(phantu,4) for phantu in nghiem])\n",
    "print (sympy.pretty(nghiem)) "
   ]
  },
  {
   "cell_type": "code",
   "execution_count": 15,
   "id": "30ec3ff8",
   "metadata": {},
   "outputs": [
    {
     "name": "stdout",
     "output_type": "stream",
     "text": [
      "[[-0.3  0.9]\n",
      " [ 0.3  0.1]]\n",
      "[[ 2.33333333  9.        ]\n",
      " [-7.          3.        ]]\n",
      "[[ 2.33333333  9.        ]\n",
      " [-7.          3.        ]]\n",
      "[[ 5.03503397e+18  3.50482117e+18]\n",
      " [ 3.50482117e+18 -4.31115581e+18]]\n",
      "[[49  0]\n",
      " [ 0  9]]\n"
     ]
    }
   ],
   "source": [
    "import numpy as np \n",
    "A = np.array([[2,3],[3,-6]]) \n",
    "D = np.array([[-7,0],[0,3]]) \n",
    "P = np.array([[-1.0/3, 3],[1,1]]) \n",
    "from numpy import linalg \n",
    "from numpy import linalg as LA \n",
    "P1 = LA.inv(P)   # tính giá trị nghịch đảo của P \n",
    "print (P1)\n",
    "print(A.dot(P) )\n",
    "print(P.dot(D))\n",
    "F = P @ (D ** 1000) @ P1\n",
    "print(F)\n",
    "print (D **2) "
   ]
  },
  {
   "cell_type": "markdown",
   "id": "902822b8",
   "metadata": {},
   "source": [
    "BÀI TẬP CHƯƠNG 6"
   ]
  },
  {
   "cell_type": "markdown",
   "id": "9f77908f",
   "metadata": {},
   "source": [
    "Câu 1: [Trắc nghiệm]\n",
    "a. >>> mag = np.sqrt(a.dot(a))  "
   ]
  },
  {
   "cell_type": "code",
   "execution_count": 18,
   "id": "33a304d0",
   "metadata": {},
   "outputs": [
    {
     "name": "stdout",
     "output_type": "stream",
     "text": [
      "5.196152422706632\n",
      "0.2257261285527342\n",
      "[1.66233766 2.07792208 2.49350649]\n"
     ]
    }
   ],
   "source": [
    "# Câu 2: Sinh viên hãy viết các chương trình tính toán theo các công thức:\n",
    "# a\n",
    "import numpy as np\n",
    "import math\n",
    "def vector_distance(u, v):\n",
    "    return np.linalg.norm(u - v)\n",
    "u = np.array([1, 2, 3])\n",
    "v = np.array([4, 5, 6])\n",
    "print(vector_distance(u, v))\n",
    "# b\n",
    "\n",
    "def vector_angle(u, v):\n",
    "    dot_product = np.dot(u, v)\n",
    "    norm_u = np.linalg.norm(u)\n",
    "    norm_v = np.linalg.norm(v)\n",
    "    cos_theta = dot_product / (norm_u * norm_v)\n",
    "    # Ép giá trị vào [-1, 1] để tránh lỗi do sai số số học\n",
    "    cos_theta = np.clip(cos_theta, -1.0, 1.0)\n",
    "    return math.acos(cos_theta)\n",
    "print(vector_angle(u, v))\n",
    "# c\n",
    "def projection(u, v):\n",
    "    scalar = np.dot(u, v) / np.dot(v, v)\n",
    "    return scalar * v\n",
    "print(projection(u, v))"
   ]
  }
 ],
 "metadata": {
  "kernelspec": {
   "display_name": "Python 3",
   "language": "python",
   "name": "python3"
  },
  "language_info": {
   "codemirror_mode": {
    "name": "ipython",
    "version": 3
   },
   "file_extension": ".py",
   "mimetype": "text/x-python",
   "name": "python",
   "nbconvert_exporter": "python",
   "pygments_lexer": "ipython3",
   "version": "3.11.9"
  }
 },
 "nbformat": 4,
 "nbformat_minor": 5
}
