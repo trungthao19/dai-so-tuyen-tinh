{
 "cells": [
  {
   "cell_type": "code",
   "execution_count": 1,
   "id": "cfb89dcd",
   "metadata": {},
   "outputs": [
    {
     "name": "stdout",
     "output_type": "stream",
     "text": [
      "-1\n",
      "1\n",
      "1\n"
     ]
    }
   ],
   "source": [
    "import numpy as np\n",
    "n = 4\n",
    "X = np.array(range(1, n + 1))\n",
    "\n",
    "sigma = np.array([2, 1, 3, 4])\n",
    "def sgn_by_def(sigma):\n",
    "    ket_qua = 1.0\n",
    "    X = np.array(range(1, len(sigma)+1))\n",
    "    for i in range(len(X) - 1):\n",
    "        for j in range(i + 1, len(X)):\n",
    "            ket_qua *= (X[i] - X[j]) / (sigma[i] - sigma[j])\n",
    "    return int(ket_qua)\n",
    "print(sgn_by_def(sigma))\n",
    "\n",
    "sigma = np.array([1, 2, 3, 4])\n",
    "print(sgn_by_def(sigma))\n",
    "\n",
    "sigma = np.array([4, 3, 2, 1])\n",
    "print(sgn_by_def(sigma))"
   ]
  },
  {
   "cell_type": "code",
   "execution_count": 2,
   "id": "554a897d",
   "metadata": {},
   "outputs": [
    {
     "name": "stdout",
     "output_type": "stream",
     "text": [
      "[(1, 2, 3), (1, 3, 2), (2, 1, 3), (2, 3, 1), (3, 1, 2), (3, 2, 1)]\n"
     ]
    }
   ],
   "source": [
    "from itertools import permutations \n",
    "n = 3 \n",
    "X = [] \n",
    "for i in range (1, n+1): \n",
    "    X.append(i)  #  tạo tập X = {1, 2, ..., n} \n",
    "Sn = list(permutations(X))    #  tạo hoán vị của tập X \n",
    "print (Sn)"
   ]
  },
  {
   "cell_type": "code",
   "execution_count": null,
   "id": "e3e2eb3e",
   "metadata": {},
   "outputs": [
    {
     "name": "stdout",
     "output_type": "stream",
     "text": [
      " + a11a22 - a12a21\n"
     ]
    }
   ],
   "source": [
    "import numpy as np\n",
    "def phatsinh_dinhthuc(n):\n",
    "    X = []\n",
    "    for i in range(1, n + 1):\n",
    "        X.append(i)\n",
    "    Sn = list(permutations(X))\n",
    "    dinhthuc = \"\"\n",
    "    for sn in Sn:\n",
    "        sigma = np.array([0] * n)\n",
    "        product = \"\"\n",
    "        for i in range(1, n + 1):\n",
    "            sigma[sn.index(i)] = i\n",
    "            product += \"a\" + str(i) + str(sn.index(i) + 1)\n",
    "        dau = sgn_by_def(sigma)\n",
    "        if dau != 1:\n",
    "            product = \" - \" + product\n",
    "        else:\n",
    "            product = \" + \" + product\n",
    "        dinhthuc += product\n",
    "    return dinhthuc\n",
    "\n",
    "# Ví dụ chạy thử\n",
    "print(phatsinh_dinhthuc(2))\n",
    "print(phatsinh_dinhthuc(3))"
   ]
  },
  {
   "cell_type": "code",
   "execution_count": 6,
   "id": "859cd505",
   "metadata": {},
   "outputs": [
    {
     "name": "stdout",
     "output_type": "stream",
     "text": [
      "85\n"
     ]
    }
   ],
   "source": [
    "def tinhtoan_dinhthuc(A):\n",
    "    X = []\n",
    "    import math # bo sung de su dung sqrt\n",
    "    n = int(math.sqrt(A.size)) # voi ma tran vuong, kich thuoc la can so\n",
    "    for i in range(1, n + 1):\n",
    "        X.append(i)\n",
    "\n",
    "    Sn = list(permutations(X))\n",
    "    dinhthuc = 0 # ban dau gia tri dinh thuc la 0\n",
    "    for sn in Sn:\n",
    "        sigma = np.array([[1]])\n",
    "        sigma.resize([n])\n",
    "        product = 1 # dat gia tri cho tich ban dau la 1\n",
    "        for i in range(1, n + 1):\n",
    "            sigma[sn.index(i)] = i\n",
    "            product = product * A[i - 1][sn.index(i)] # luu y chi so\n",
    "            #print(A[i-1][sn.index(i)])\n",
    "        dau = sgn_by_def(sigma)\n",
    "        if (dau != 1): # khong xet truong hop dau =1\n",
    "            product = product * (-1) # khi dau = -1 thi nhan voi -1\n",
    "        dinhthuc = dinhthuc + product\n",
    "    return dinhthuc\n",
    "matran = np.array([ [3,5,-8], [4, 12, -1], [2,5,3] ]) \n",
    "print(tinhtoan_dinhthuc(matran))\n"
   ]
  },
  {
   "cell_type": "code",
   "execution_count": 7,
   "id": "ec03e7f0",
   "metadata": {},
   "outputs": [
    {
     "name": "stdout",
     "output_type": "stream",
     "text": [
      "-14.0 -28.0 14.000000000000004\n",
      "Hai nghiệm của phương trình là:  2.0 -1.0000000000000002\n"
     ]
    }
   ],
   "source": [
    "import numpy as np \n",
    "A = np.array([[4, -2],[3, -5]])   # khai báo ma trận A \n",
    "A1 = np.array([[10, -2],[11, -5]]) \n",
    "A2 = np.array([[4, 10],[3, 11]]) \n",
    "from scipy import linalg  # lưu ý: hàm tính định thức của ma trận là scipy.linalg.det(A) \n",
    "detA = linalg.det(A)      # tính định thức cho ma trận A \n",
    "detA1 = linalg.det(A1) \n",
    "detA2 = linalg.det(A2) \n",
    "print (detA, detA1, detA2) \n",
    "# Sinh viên điền kết quả kiểm tra \n",
    "if (detA != 0): \n",
    "    x1 = detA1 / detA \n",
    "    x2 = detA2 / detA \n",
    "    print (\"Hai nghiệm của phương trình là: \", x1, x2)"
   ]
  },
  {
   "cell_type": "code",
   "execution_count": 8,
   "id": "60056c29",
   "metadata": {},
   "outputs": [
    {
     "name": "stdout",
     "output_type": "stream",
     "text": [
      "Ma trận hệ số kép:\n",
      "⎡24   5   -4⎤\n",
      "⎢           ⎥\n",
      "⎢-12  3   2 ⎥\n",
      "⎢           ⎥\n",
      "⎣-2   -5  4 ⎦\n",
      "\n",
      "Ma trận liên hợp (adjoint):\n",
      "⎡24  -12  -2⎤\n",
      "⎢           ⎥\n",
      "⎢5    3   -5⎥\n",
      "⎢           ⎥\n",
      "⎣-4   2   4 ⎦\n"
     ]
    }
   ],
   "source": [
    "# Câu 1: Hãy viết chương trình để tính các ma trận: \n",
    "# a. Ma trận hệ số kép (cofactor matrix).\n",
    "import sympy as sym\n",
    "\n",
    "# Khởi tạo ma trận ví dụ A\n",
    "A = sym.Matrix([\n",
    "    [1, 2, 3],\n",
    "    [0, 4, 5],\n",
    "    [1, 0, 6]\n",
    "])\n",
    "cofactor_matrix = A.cofactor_matrix()\n",
    "print(\"Ma trận hệ số kép:\")\n",
    "sym.pprint(cofactor_matrix)\n",
    "#b. Ma trận liên hợp (adjoint matrix).\n",
    "adjoint_matrix = A.adjugate()\n",
    "print(\"\\nMa trận liên hợp (adjoint):\")\n",
    "sym.pprint(adjoint_matrix)"
   ]
  },
  {
   "cell_type": "code",
   "execution_count": 9,
   "id": "cb632623",
   "metadata": {},
   "outputs": [
    {
     "name": "stdout",
     "output_type": "stream",
     "text": [
      "Phương trình là:\n",
      "    2              2                \n",
      "10⋅x  - 40⋅x + 10⋅y  - 60⋅y + 80 = 0\n"
     ]
    }
   ],
   "source": [
    "#Câu 2: Hãy xây dựng ma trận tính quỹ đạo của một vật thể xoay theo quỹ đạo đường tròn. \n",
    "import sympy as sym\n",
    "x, y = sym.symbols('x y')\n",
    "x1, y1 = 1, 1\n",
    "x2, y2 = 4, 2\n",
    "x3, y3 = 3, 5\n",
    "M = sym.Matrix([\n",
    "    [x**2 + y**2, x, y, 1],\n",
    "    [x1**2 + y1**2, x1, y1, 1],\n",
    "    [x2**2 + y2**2, x2, y2, 1],\n",
    "    [x3**2 + y3**2, x3, y3, 1]\n",
    "])\n",
    "det = M.det()\n",
    "print(\"Phương trình là:\")\n",
    "sym.pprint(sym.Eq(det, 0))\n"
   ]
  }
 ],
 "metadata": {
  "kernelspec": {
   "display_name": "Python 3",
   "language": "python",
   "name": "python3"
  },
  "language_info": {
   "codemirror_mode": {
    "name": "ipython",
    "version": 3
   },
   "file_extension": ".py",
   "mimetype": "text/x-python",
   "name": "python",
   "nbconvert_exporter": "python",
   "pygments_lexer": "ipython3",
   "version": "3.11.9"
  }
 },
 "nbformat": 4,
 "nbformat_minor": 5
}
