{
 "cells": [
  {
   "cell_type": "code",
   "execution_count": 1,
   "id": "8d2b72a7",
   "metadata": {},
   "outputs": [
    {
     "name": "stdout",
     "output_type": "stream",
     "text": [
      "Lỗi: name 'E' is not defined\n",
      "[[1 2]\n",
      " [3 4]]\n"
     ]
    }
   ],
   "source": [
    "import numpy as np\n",
    "\n",
    "D = np.array([[1, 2], [3, 4]])\n",
    "\n",
    "try:\n",
    "    np.copyto(E, D)\n",
    "except NameError as e:\n",
    "    print(\"Lỗi:\", e)\n",
    "\n",
    "E = np.array([[1, 2], [3, 5]])\n",
    "np.copyto(E, D)\n",
    "print(E)\n"
   ]
  },
  {
   "cell_type": "code",
   "execution_count": 2,
   "id": "433c5dbd",
   "metadata": {},
   "outputs": [
    {
     "name": "stdout",
     "output_type": "stream",
     "text": [
      "[[\"[['a' 'b']\\n ['c' 'd']]\" 'x']\n",
      " ['1' '2']]\n"
     ]
    }
   ],
   "source": [
    "import numpy as np\n",
    "\n",
    "x = np.array([['a','b'],['c','d']])\n",
    "y = 'x'\n",
    "C = np.array([[str(x), y], ['1', '2']])\n",
    "print(C)\n"
   ]
  },
  {
   "cell_type": "code",
   "execution_count": 3,
   "id": "5111cc4e",
   "metadata": {},
   "outputs": [
    {
     "name": "stdout",
     "output_type": "stream",
     "text": [
      "Lỗi: matrix must be 2-dimensional\n",
      "[[[1 2]\n",
      "  [3 4]]\n",
      "\n",
      " [[5 6]\n",
      "  [7 8]]]\n"
     ]
    }
   ],
   "source": [
    "import numpy as np\n",
    "\n",
    "try:\n",
    "    A = np.matrix([[[1,2],[3,4]],[[5,6],[7,8]]])\n",
    "except Exception as e:\n",
    "    print(\"Lỗi:\", e)\n",
    "\n",
    "A = np.array([[[1,2],[3,4]],[[5,6],[7,8]]])\n",
    "print(A)\n"
   ]
  },
  {
   "cell_type": "code",
   "execution_count": 4,
   "id": "57cd86d7",
   "metadata": {},
   "outputs": [
    {
     "name": "stdout",
     "output_type": "stream",
     "text": [
      "[[1. 0. 0. 0. 0.]\n",
      " [0. 1. 0. 0. 0.]\n",
      " [0. 0. 1. 0. 0.]\n",
      " [0. 0. 0. 1. 0.]\n",
      " [0. 0. 0. 0. 1.]]\n",
      "[[ 0.37200929  1.53899515]\n",
      " [ 0.21432316  0.19430245]\n",
      " [ 0.08509969 -0.39778286]]\n",
      "[[0. 0. 0. 0.]\n",
      " [0. 0. 0. 0.]\n",
      " [0. 0. 0. 0.]\n",
      " [0. 0. 0. 0.]]\n"
     ]
    }
   ],
   "source": [
    "from numpy import matlib \n",
    "G = matlib.identity(5)   # cú pháp: matlib.identity(n) \n",
    "print (G)\n",
    "H = matlib.randn(3,2) # cú pháp: matlib.randn(*args) \n",
    "print(H)\n",
    "K = matlib.zeros([4,4])  #  cú pháp: matlib.zeros(shape) \n",
    "print(K) "
   ]
  },
  {
   "cell_type": "code",
   "execution_count": 5,
   "id": "759ef2a7",
   "metadata": {},
   "outputs": [
    {
     "name": "stdout",
     "output_type": "stream",
     "text": [
      "[[165707065  80143857]\n",
      " [ 52746197  25510582]]\n",
      "3.1415926535897936\n"
     ]
    }
   ],
   "source": [
    "import numpy as np\n",
    "\n",
    "c = [3, 7, 15, 1, 292, 1, 1, 1, 2, 1, 3, 1, 14, 2]  # có thể thay đổi để thử dãy khác\n",
    "\n",
    "M = np.asmatrix([[1, 2], [3, 4]])  # khởi tạo ma trận, sẽ bị thay ngay nên giá trị ban đầu không quan trọng\n",
    "\n",
    "for i in range(len(c)):\n",
    "    ci = np.asmatrix([[1, 1], [1, 0]])\n",
    "    ci[0, 0] = c[i]\n",
    "    if i == 0:\n",
    "        M = ci\n",
    "    else:\n",
    "        M = M.dot(ci)\n",
    "\n",
    "print(M)\n",
    "print(M[0, 0] / M[1, 0])  # in số Pi theo dãy liên phân số\n"
   ]
  },
  {
   "cell_type": "code",
   "execution_count": null,
   "id": "74d663fe",
   "metadata": {},
   "outputs": [],
   "source": []
  },
  {
   "cell_type": "markdown",
   "id": "bb9393d8",
   "metadata": {},
   "source": [
    "BÀI TẬP CHƯƠNG 5"
   ]
  },
  {
   "cell_type": "code",
   "execution_count": 6,
   "id": "6e0ad571",
   "metadata": {},
   "outputs": [
    {
     "name": "stdout",
     "output_type": "stream",
     "text": [
      "Phương trình: y = 10.2 + -1.9·x\n"
     ]
    }
   ],
   "source": [
    "import numpy as np\n",
    "\n",
    "def bpcuctieu(a):\n",
    "    b = []\n",
    "    o1 = []\n",
    "    for i in range(len(a)):\n",
    "        o1.append(1.0)\n",
    "        b.append(i * 1.0)\n",
    "    x = np.array([o1, b])\n",
    "    u = np.dot(x, x.T)\n",
    "    y = np.array(a)\n",
    "    from numpy import linalg\n",
    "    u_1 = np.linalg.inv(u)\n",
    "    v = np.dot(u_1, x)\n",
    "    A = np.dot(v, y)\n",
    "    return A\n",
    "\n",
    "dulieu = [10.0, 8, 7, 5, 2]\n",
    "A = bpcuctieu(dulieu)\n",
    "print(\"Phương trình: y = {:.1f} + {:.1f}·x\".format(A[0], A[1]))\n"
   ]
  }
 ],
 "metadata": {
  "kernelspec": {
   "display_name": "Python 3",
   "language": "python",
   "name": "python3"
  },
  "language_info": {
   "codemirror_mode": {
    "name": "ipython",
    "version": 3
   },
   "file_extension": ".py",
   "mimetype": "text/x-python",
   "name": "python",
   "nbconvert_exporter": "python",
   "pygments_lexer": "ipython3",
   "version": "3.11.9"
  }
 },
 "nbformat": 4,
 "nbformat_minor": 5
}
